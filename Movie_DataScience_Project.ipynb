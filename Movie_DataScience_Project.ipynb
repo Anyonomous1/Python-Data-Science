{
 "cells": [
  {
   "cell_type": "markdown",
   "id": "c071bcc2",
   "metadata": {},
   "source": [
    "# Movie Data Science Project\n"
   ]
  },
  {
   "cell_type": "code",
   "execution_count": null,
   "id": "e32c44f8",
   "metadata": {},
   "outputs": [
    {
     "data": {
      "text/html": [
       "<div>\n",
       "<style scoped>\n",
       "    .dataframe tbody tr th:only-of-type {\n",
       "        vertical-align: middle;\n",
       "    }\n",
       "\n",
       "    .dataframe tbody tr th {\n",
       "        vertical-align: top;\n",
       "    }\n",
       "\n",
       "    .dataframe thead th {\n",
       "        text-align: right;\n",
       "    }\n",
       "</style>\n",
       "<table border=\"1\" class=\"dataframe\">\n",
       "  <thead>\n",
       "    <tr style=\"text-align: right;\">\n",
       "      <th></th>\n",
       "      <th>Movie</th>\n",
       "      <th>Genre</th>\n",
       "      <th>Budget_Million</th>\n",
       "      <th>Revenue_Million</th>\n",
       "      <th>Rating</th>\n",
       "    </tr>\n",
       "  </thead>\n",
       "  <tbody>\n",
       "    <tr>\n",
       "      <th>0</th>\n",
       "      <td>Inception</td>\n",
       "      <td>Sci-Fi</td>\n",
       "      <td>160</td>\n",
       "      <td>829</td>\n",
       "      <td>8.8</td>\n",
       "    </tr>\n",
       "    <tr>\n",
       "      <th>1</th>\n",
       "      <td>Avengers</td>\n",
       "      <td>Action</td>\n",
       "      <td>220</td>\n",
       "      <td>1519</td>\n",
       "      <td>8.0</td>\n",
       "    </tr>\n",
       "    <tr>\n",
       "      <th>2</th>\n",
       "      <td>Titanic</td>\n",
       "      <td>Romance</td>\n",
       "      <td>200</td>\n",
       "      <td>2187</td>\n",
       "      <td>7.8</td>\n",
       "    </tr>\n",
       "    <tr>\n",
       "      <th>3</th>\n",
       "      <td>The Dark Knight</td>\n",
       "      <td>Action</td>\n",
       "      <td>185</td>\n",
       "      <td>1005</td>\n",
       "      <td>9.0</td>\n",
       "    </tr>\n",
       "    <tr>\n",
       "      <th>4</th>\n",
       "      <td>Interstellar</td>\n",
       "      <td>Sci-Fi</td>\n",
       "      <td>165</td>\n",
       "      <td>677</td>\n",
       "      <td>8.6</td>\n",
       "    </tr>\n",
       "    <tr>\n",
       "      <th>5</th>\n",
       "      <td>Frozen</td>\n",
       "      <td>Animation</td>\n",
       "      <td>150</td>\n",
       "      <td>1280</td>\n",
       "      <td>7.4</td>\n",
       "    </tr>\n",
       "    <tr>\n",
       "      <th>6</th>\n",
       "      <td>Toy Story</td>\n",
       "      <td>Animation</td>\n",
       "      <td>30</td>\n",
       "      <td>373</td>\n",
       "      <td>8.3</td>\n",
       "    </tr>\n",
       "    <tr>\n",
       "      <th>7</th>\n",
       "      <td>Joker</td>\n",
       "      <td>Drama</td>\n",
       "      <td>55</td>\n",
       "      <td>1074</td>\n",
       "      <td>8.5</td>\n",
       "    </tr>\n",
       "    <tr>\n",
       "      <th>8</th>\n",
       "      <td>Avatar</td>\n",
       "      <td>Sci-Fi</td>\n",
       "      <td>237</td>\n",
       "      <td>2847</td>\n",
       "      <td>7.9</td>\n",
       "    </tr>\n",
       "    <tr>\n",
       "      <th>9</th>\n",
       "      <td>The Lion King</td>\n",
       "      <td>Animation</td>\n",
       "      <td>45</td>\n",
       "      <td>968</td>\n",
       "      <td>8.5</td>\n",
       "    </tr>\n",
       "  </tbody>\n",
       "</table>\n",
       "</div>"
      ],
      "text/plain": [
       "             Movie      Genre  Budget_Million  Revenue_Million  Rating\n",
       "0        Inception     Sci-Fi             160              829     8.8\n",
       "1         Avengers     Action             220             1519     8.0\n",
       "2          Titanic    Romance             200             2187     7.8\n",
       "3  The Dark Knight     Action             185             1005     9.0\n",
       "4     Interstellar     Sci-Fi             165              677     8.6\n",
       "5           Frozen  Animation             150             1280     7.4\n",
       "6        Toy Story  Animation              30              373     8.3\n",
       "7            Joker      Drama              55             1074     8.5\n",
       "8           Avatar     Sci-Fi             237             2847     7.9\n",
       "9    The Lion King  Animation              45              968     8.5"
      ]
     },
     "execution_count": 2,
     "metadata": {},
     "output_type": "execute_result"
    }
   ],
   "source": [
    "\n",
    "import pandas as pd\n",
    "import numpy as np\n",
    "import matplotlib.pyplot as plt\n",
    "import seaborn as sns\n",
    "\n",
    "\n",
    "data = {\n",
    "    \"Movie\": [\"Inception\", \"Avengers\", \"Titanic\", \"The Dark Knight\", \"Interstellar\",\n",
    "              \"Frozen\", \"Toy Story\", \"Joker\", \"Avatar\", \"The Lion King\"],\n",
    "    \"Genre\": [\"Sci-Fi\", \"Action\", \"Romance\", \"Action\", \"Sci-Fi\",\n",
    "              \"Animation\", \"Animation\", \"Drama\", \"Sci-Fi\", \"Animation\"],\n",
    "    \"Budget_Million\": [160, 220, 200, 185, 165, 150, 30, 55, 237, 45],\n",
    "    \"Revenue_Million\": [829, 1519, 2187, 1005, 677, 1280, 373, 1074, 2847, 968],\n",
    "    \"Rating\": [8.8, 8.0, 7.8, 9.0, 8.6, 7.4, 8.3, 8.5, 7.9, 8.5]\n",
    "}\n",
    "\n",
    "df = pd.DataFrame(data)\n",
    "df\n"
   ]
  },
  {
   "cell_type": "markdown",
   "id": "c9c21c75",
   "metadata": {},
   "source": [
    "## Dataset Overview\n"
   ]
  },
  {
   "cell_type": "code",
   "execution_count": 3,
   "id": "08acbd90",
   "metadata": {},
   "outputs": [
    {
     "name": "stdout",
     "output_type": "stream",
     "text": [
      "<class 'pandas.core.frame.DataFrame'>\n",
      "RangeIndex: 10 entries, 0 to 9\n",
      "Data columns (total 5 columns):\n",
      " #   Column           Non-Null Count  Dtype  \n",
      "---  ------           --------------  -----  \n",
      " 0   Movie            10 non-null     object \n",
      " 1   Genre            10 non-null     object \n",
      " 2   Budget_Million   10 non-null     int64  \n",
      " 3   Revenue_Million  10 non-null     int64  \n",
      " 4   Rating           10 non-null     float64\n",
      "dtypes: float64(1), int64(2), object(2)\n",
      "memory usage: 532.0+ bytes\n"
     ]
    },
    {
     "data": {
      "text/html": [
       "<div>\n",
       "<style scoped>\n",
       "    .dataframe tbody tr th:only-of-type {\n",
       "        vertical-align: middle;\n",
       "    }\n",
       "\n",
       "    .dataframe tbody tr th {\n",
       "        vertical-align: top;\n",
       "    }\n",
       "\n",
       "    .dataframe thead th {\n",
       "        text-align: right;\n",
       "    }\n",
       "</style>\n",
       "<table border=\"1\" class=\"dataframe\">\n",
       "  <thead>\n",
       "    <tr style=\"text-align: right;\">\n",
       "      <th></th>\n",
       "      <th>Budget_Million</th>\n",
       "      <th>Revenue_Million</th>\n",
       "      <th>Rating</th>\n",
       "    </tr>\n",
       "  </thead>\n",
       "  <tbody>\n",
       "    <tr>\n",
       "      <th>count</th>\n",
       "      <td>10.000000</td>\n",
       "      <td>10.000000</td>\n",
       "      <td>10.000000</td>\n",
       "    </tr>\n",
       "    <tr>\n",
       "      <th>mean</th>\n",
       "      <td>144.700000</td>\n",
       "      <td>1275.900000</td>\n",
       "      <td>8.280000</td>\n",
       "    </tr>\n",
       "    <tr>\n",
       "      <th>std</th>\n",
       "      <td>75.046726</td>\n",
       "      <td>740.881974</td>\n",
       "      <td>0.496208</td>\n",
       "    </tr>\n",
       "    <tr>\n",
       "      <th>min</th>\n",
       "      <td>30.000000</td>\n",
       "      <td>373.000000</td>\n",
       "      <td>7.400000</td>\n",
       "    </tr>\n",
       "    <tr>\n",
       "      <th>25%</th>\n",
       "      <td>78.750000</td>\n",
       "      <td>863.750000</td>\n",
       "      <td>7.925000</td>\n",
       "    </tr>\n",
       "    <tr>\n",
       "      <th>50%</th>\n",
       "      <td>162.500000</td>\n",
       "      <td>1039.500000</td>\n",
       "      <td>8.400000</td>\n",
       "    </tr>\n",
       "    <tr>\n",
       "      <th>75%</th>\n",
       "      <td>196.250000</td>\n",
       "      <td>1459.250000</td>\n",
       "      <td>8.575000</td>\n",
       "    </tr>\n",
       "    <tr>\n",
       "      <th>max</th>\n",
       "      <td>237.000000</td>\n",
       "      <td>2847.000000</td>\n",
       "      <td>9.000000</td>\n",
       "    </tr>\n",
       "  </tbody>\n",
       "</table>\n",
       "</div>"
      ],
      "text/plain": [
       "       Budget_Million  Revenue_Million     Rating\n",
       "count       10.000000        10.000000  10.000000\n",
       "mean       144.700000      1275.900000   8.280000\n",
       "std         75.046726       740.881974   0.496208\n",
       "min         30.000000       373.000000   7.400000\n",
       "25%         78.750000       863.750000   7.925000\n",
       "50%        162.500000      1039.500000   8.400000\n",
       "75%        196.250000      1459.250000   8.575000\n",
       "max        237.000000      2847.000000   9.000000"
      ]
     },
     "execution_count": 3,
     "metadata": {},
     "output_type": "execute_result"
    }
   ],
   "source": [
    "df.info()\n",
    "df.describe()"
   ]
  },
  {
   "cell_type": "markdown",
   "id": "a57e0235",
   "metadata": {},
   "source": [
    "## Genre Distribution"
   ]
  },
  {
   "cell_type": "code",
   "execution_count": 4,
   "id": "539dccf0",
   "metadata": {},
   "outputs": [
    {
     "name": "stderr",
     "output_type": "stream",
     "text": [
      "C:\\Users\\LENOVO\\AppData\\Local\\Temp\\ipykernel_21944\\3032423582.py:2: FutureWarning: \n",
      "\n",
      "Passing `palette` without assigning `hue` is deprecated and will be removed in v0.14.0. Assign the `x` variable to `hue` and set `legend=False` for the same effect.\n",
      "\n",
      "  sns.countplot(x=\"Genre\", data=df, palette=\"Set2\")\n"
     ]
    },
    {
     "data": {
      "image/png": "[encoded data removed]",
      "text/plain": [
       "<Figure size 800x500 with 1 Axes>"
      ]
     },
     "metadata": {},
     "output_type": "display_data"
    }
   ],
   "source": [
    "\n",
    "plt.figure(figsize=(8,5))\n",
    "sns.countplot(x=\"Genre\", data=df, palette=\"Set2\")\n",
    "plt.title(\"Number of Movies by Genre\")\n",
    "plt.show()\n"
   ]
  },
  {
   "cell_type": "markdown",
   "id": "708d09dc",
   "metadata": {},
   "source": [
    "##  Budget vs Revenue"
   ]
  },
  {
   "cell_type": "code",
   "execution_count": null,
   "id": "ae5d8795",
   "metadata": {},
   "outputs": [],
   "source": [
    "\n",
    "plt.figure(figsize=(8,5))\n",
    "sns.scatterplot(x=\"Budget_Million\", y=\"Revenue_Million\", hue=\"Genre\", data=df, s=100)\n",
    "plt.title(\"Budget vs Revenue\")\n",
    "plt.show()\n"
   ]
  },
  {
   "cell_type": "markdown",
   "id": "305a41ed",
   "metadata": {},
   "source": [
    "##  Rating Distribution"
   ]
  },
  {
   "cell_type": "code",
   "execution_count": 7,
   "id": "509ea3ac",
   "metadata": {},
   "outputs": [
    {
     "data": {
      "image/png": "[encoded data removed]",
      "text/plain": [
       "<Figure size 800x500 with 1 Axes>"
      ]
     },
     "metadata": {},
     "output_type": "display_data"
    }
   ],
   "source": [
    "\n",
    "plt.figure(figsize=(8,5))\n",
    "sns.histplot(df[\"Rating\"], bins=5, kde=True, color=\"skyblue\")\n",
    "plt.title(\"Distribution of Movie Ratings\")\n",
    "plt.show()\n"
   ]
  },
  {
   "cell_type": "markdown",
   "id": "e33f5309",
   "metadata": {},
   "source": [
    "## Average Revenue by Genre"
   ]
  },
  {
   "cell_type": "code",
   "execution_count": 6,
   "id": "a02601fd",
   "metadata": {},
   "outputs": [
    {
     "name": "stderr",
     "output_type": "stream",
     "text": [
      "C:\\Users\\LENOVO\\AppData\\Local\\Temp\\ipykernel_21944\\2326124073.py:3: FutureWarning: \n",
      "\n",
      "Passing `palette` without assigning `hue` is deprecated and will be removed in v0.14.0. Assign the `x` variable to `hue` and set `legend=False` for the same effect.\n",
      "\n",
      "  sns.barplot(x=genre_revenue.index, y=genre_revenue.values, palette=\"coolwarm\")\n"
     ]
    },
    {
     "data": {
      "image/png": "[encoded data removed]",
      "text/plain": [
       "<Figure size 800x500 with 1 Axes>"
      ]
     },
     "metadata": {},
     "output_type": "display_data"
    }
   ],
   "source": [
    "\n",
    "genre_revenue = df.groupby(\"Genre\")[\"Revenue_Million\"].mean().sort_values(ascending=False)\n",
    "plt.figure(figsize=(8,5))\n",
    "sns.barplot(x=genre_revenue.index, y=genre_revenue.values, palette=\"coolwarm\")\n",
    "plt.title(\"Average Revenue by Genre\")\n",
    "plt.show()\n"
   ]
  },
  {
   "cell_type": "markdown",
   "id": "2d7be40a",
   "metadata": {},
   "source": [
    "\n",
    "# -> Insights  \n",
    "- Action and Sci-Fi movies have **high revenues**.  \n",
    "- Animation movies also perform strongly relative to budget.  \n",
    "- Ratings are generally above 7, with some exceptional outliers (Dark Knight 9.0).  \n",
    "- Budget does not always guarantee higher ratings.  \n"
   ]
  }
 ],
 "metadata": {
  "kernelspec": {
   "display_name": "Python 3",
   "language": "python",
   "name": "python3"
  },
  "language_info": {
   "codemirror_mode": {
    "name": "ipython",
    "version": 3
   },
   "file_extension": ".py",
   "mimetype": "text/x-python",
   "name": "python",
   "nbconvert_exporter": "python",
   "pygments_lexer": "ipython3",
   "version": "3.13.7"
  }
 },
 "nbformat": 4,
 "nbformat_minor": 5
}
